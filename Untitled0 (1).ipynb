{
  "nbformat": 4,
  "nbformat_minor": 0,
  "metadata": {
    "colab": {
      "name": "Untitled0.ipynb",
      "provenance": [],
      "collapsed_sections": []
    },
    "kernelspec": {
      "name": "python3",
      "display_name": "Python 3"
    }
  },
  "cells": [
    {
      "cell_type": "code",
      "metadata": {
        "colab": {
          "base_uri": "https://localhost:8080/"
        },
        "id": "neWkoMIN_qU_",
        "outputId": "2f146307-25d2-47d4-9f84-0dd2b9addf8a"
      },
      "source": [
        "import pandas as pd\r\n",
        "\r\n",
        "print('Seeing if this works')\r\n",
        "\r\n",
        "print('Nex thing I am going to check if this automatically updates on github')\r\n"
      ],
      "execution_count": 2,
      "outputs": [
        {
          "output_type": "stream",
          "text": [
            "Seeing if this works\n"
          ],
          "name": "stdout"
        }
      ]
    }
  ]
}